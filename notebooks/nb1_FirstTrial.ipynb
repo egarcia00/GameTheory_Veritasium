{
 "cells": [
  {
   "cell_type": "markdown",
   "metadata": {},
   "source": [
    "# First Trial\n",
    "- Player0 = Random Choice\n",
    "- Player1 = Always Cooperate\n",
    "- Player2 = Always Exploit"
   ]
  },
  {
   "cell_type": "code",
   "execution_count": 1,
   "metadata": {},
   "outputs": [],
   "source": [
    "import random\n",
    "\n",
    "def player0():\n",
    "    \"\"\"Player0 randomly chooses to Cooperate (CO) or Exploit (EX).\"\"\"\n",
    "    return random.choice([\"CO\", \"EX\"])\n",
    "\n",
    "def player1():\n",
    "    \"\"\"Player1 always chooses to Cooperate (CO).\"\"\"\n",
    "    return \"CO\"\n",
    "\n",
    "def player2():\n",
    "    \"\"\"Player2 always chooses to Exploit (EX).\"\"\"\n",
    "    return \"EX\"\n"
   ]
  },
  {
   "cell_type": "code",
   "execution_count": 2,
   "metadata": {},
   "outputs": [],
   "source": [
    "class Game:\n",
    "\n",
    "    def __init__(self):\n",
    "        self.scores = {\"P1\": 0, \"P2\": 0}\n",
    "        self.history = []\n",
    "\n",
    "    def play_round(self, choice1, choice2):\n",
    "        if choice1 == \"CO\" and choice2 == \"CO\":\n",
    "            self.scores[\"P1\"] += 1\n",
    "            self.scores[\"P2\"] += 1\n",
    "        elif choice1 == \"CO\" and choice2 == \"EX\":\n",
    "            self.scores[\"P1\"] += 0\n",
    "            self.scores[\"P2\"] += 5\n",
    "        elif choice1 == \"EX\" and choice2 == \"CO\":\n",
    "            self.scores[\"P1\"] += 5\n",
    "            self.scores[\"P2\"] += 0\n",
    "        elif choice1 == \"EX\" and choice2 == \"EX\":\n",
    "            self.scores[\"P1\"] += 0\n",
    "            self.scores[\"P2\"] += 0\n",
    "\n",
    "    def play_game(self, rounds, strategy1, strategy2):\n",
    "        self.scores = {\"P1\": 0, \"P2\": 0}  # Reset scores for each game\n",
    "        for _ in range(rounds):\n",
    "            choice1 = strategy1()\n",
    "            choice2 = strategy2()\n",
    "            self.play_round(choice1, choice2)\n",
    "        return self.scores\n",
    "\n",
    "    def get_scores(self):\n",
    "        return self.scores\n"
   ]
  },
  {
   "cell_type": "code",
   "execution_count": 3,
   "metadata": {},
   "outputs": [],
   "source": [
    "def tournament(players, tournament_rounds, rounds_per_match):\n",
    "    total_scores = {f\"Player{i}\": 0 for i in range(len(players))}\n",
    "    \n",
    "    for i in range(len(players)):\n",
    "        for j in range(i+1, len(players)):\n",
    "            for _ in range(tournament_rounds):\n",
    "                game = Game()\n",
    "                scores = game.play_game(rounds_per_match, players[i], players[j])\n",
    "                total_scores[f\"Player{i}\"] += scores[\"P1\"]\n",
    "                total_scores[f\"Player{j}\"] += scores[\"P2\"]\n",
    "\n",
    "    return total_scores\n"
   ]
  },
  {
   "cell_type": "code",
   "execution_count": 4,
   "metadata": {},
   "outputs": [
    {
     "name": "stdout",
     "output_type": "stream",
     "text": [
      "Player0 = 74 points\n",
      "Player1 = 19 points\n",
      "Player2 = 240 points\n"
     ]
    }
   ],
   "source": [
    "players = [player0, player1, player2]\n",
    "tournament_rounds = 3\n",
    "rounds_per_match = 10\n",
    "\n",
    "final_scores = tournament(players, tournament_rounds, rounds_per_match)\n",
    "for player, score in final_scores.items():\n",
    "    print(f\"{player} = {score} points\")"
   ]
  },
  {
   "cell_type": "markdown",
   "metadata": {},
   "source": [
    "# Second Trial\n",
    "- Player0 = Random Choice\n",
    "- Player1 = Always Cooperate\n",
    "- Player2 = Always Exploit\n",
    "- Player3 = Tit-for-Tat: It always starts with Cooperate. But in round 2 forwards, it will mimic exactly what the opponent did. "
   ]
  },
  {
   "cell_type": "code",
   "execution_count": 5,
   "metadata": {},
   "outputs": [],
   "source": [
    "class Game:\n",
    "    def __init__(self, player1, player2):\n",
    "        self.scores = {\"P1\": 0, \"P2\": 0}\n",
    "        self.player1 = player1\n",
    "        self.player2 = player2\n",
    "\n",
    "\n",
    "    def play_round(self, choice1, choice2):\n",
    "        choice1 = self.player1() if callable(self.player1) else self.player1.play()\n",
    "        choice2 = self.player2() if callable(self.player2) else self.player2.play()\n",
    "\n",
    "        if choice1 == \"CO\" and choice2 == \"CO\":\n",
    "            self.scores[\"P1\"] += 3\n",
    "            self.scores[\"P2\"] += 3\n",
    "        elif choice1 == \"CO\" and choice2 == \"EX\":\n",
    "            self.scores[\"P1\"] += 0\n",
    "            self.scores[\"P2\"] += 5\n",
    "        elif choice1 == \"EX\" and choice2 == \"CO\":\n",
    "            self.scores[\"P1\"] += 5\n",
    "            self.scores[\"P2\"] += 0\n",
    "        elif choice1 == \"EX\" and choice2 == \"EX\":\n",
    "            self.scores[\"P1\"] += 1\n",
    "            self.scores[\"P2\"] += 1\n",
    "    \n",
    "        # Record the choices and scores for this round\n",
    "        self.history.append({\n",
    "            \"P1_choice\": choice1,\n",
    "            \"P2_choice\": choice2,\n",
    "            \"Scores\": self.scores.copy()\n",
    "        })\n",
    "\n",
    "        if hasattr(self.player1, 'update_last_move'):\n",
    "            self.player1.update_last_move(choice2)\n",
    "        if hasattr(self.player2, 'update_last_move'):\n",
    "            self.player2.update_last_move(choice1)\n",
    "\n",
    "    def play_game(self, rounds):\n",
    "        self.scores = {\"P1\": 0, \"P2\": 0}  # Reset scores for each game\n",
    "        for _ in range(rounds):\n",
    "            self.play_round()\n",
    "        return self.scores\n",
    "\n",
    "    def get_scores(self):\n",
    "        return self.scores\n",
    "\n",
    "    def get_history(self):\n",
    "        return self.history"
   ]
  },
  {
   "cell_type": "code",
   "execution_count": 6,
   "metadata": {},
   "outputs": [],
   "source": [
    "def tournament(players, tournament_rounds, rounds_per_match):\n",
    "    total_scores = {f\"Player{i}\": 0 for i in range(len(players))}\n",
    "    \n",
    "    # Create instances for stateful players\n",
    "    player_instances = [p() if callable(p) else p for p in players]\n",
    "\n",
    "    for i, player1 in enumerate(player_instances):\n",
    "        for j, player2 in enumerate(player_instances):\n",
    "            if i < j:\n",
    "                for _ in range(tournament_rounds):\n",
    "                    game = Game(player1, player2)\n",
    "                    scores = game.play_game(rounds_per_match)\n",
    "                    total_scores[f\"Player{i}\"] += scores[\"P1\"]\n",
    "                    total_scores[f\"Player{j}\"] += scores[\"P2\"]\n",
    "\n",
    "    # Sort and return scores\n",
    "    sorted_scores = sorted(total_scores.items(), key=lambda x: x[1], reverse=True)\n",
    "    return sorted_scores"
   ]
  },
  {
   "cell_type": "code",
   "execution_count": 7,
   "metadata": {},
   "outputs": [],
   "source": [
    "import random\n",
    "\n",
    "def player0():\n",
    "    \"\"\"Player0 randomly chooses to Cooperate (CO) or Exploit (EX).\"\"\"\n",
    "    return random.choice([\"CO\", \"EX\"])\n",
    "\n",
    "def player1():\n",
    "    \"\"\"Player1 always chooses to Cooperate (CO).\"\"\"\n",
    "    return \"CO\"\n",
    "\n",
    "def player2():\n",
    "    \"\"\"Player2 always chooses to Exploit (EX).\"\"\"\n",
    "    return \"EX\"\n",
    "\n",
    "\n",
    "class Player3:\n",
    "    def __init__(self):\n",
    "        self.last_move = None\n",
    "\n",
    "    def play(self):\n",
    "        if self.last_move is None:\n",
    "            return \"CO\"\n",
    "        return self.last_move\n",
    "\n",
    "    def update_last_move(self, opponent_move):\n",
    "        self.last_move = opponent_move"
   ]
  },
  {
   "cell_type": "code",
   "execution_count": 8,
   "metadata": {},
   "outputs": [
    {
     "ename": "TypeError",
     "evalue": "Game.play_round() missing 2 required positional arguments: 'choice1' and 'choice2'",
     "output_type": "error",
     "traceback": [
      "\u001b[0;31m---------------------------------------------------------------------------\u001b[0m",
      "\u001b[0;31mTypeError\u001b[0m                                 Traceback (most recent call last)",
      "Cell \u001b[0;32mIn[8], line 8\u001b[0m\n\u001b[1;32m      5\u001b[0m tournament_rounds \u001b[39m=\u001b[39m \u001b[39m3\u001b[39m\n\u001b[1;32m      6\u001b[0m rounds_per_match \u001b[39m=\u001b[39m \u001b[39m10\u001b[39m\n\u001b[0;32m----> 8\u001b[0m final_scores \u001b[39m=\u001b[39m tournament(players, tournament_rounds, rounds_per_match)\n\u001b[1;32m      9\u001b[0m \u001b[39mfor\u001b[39;00m player, score \u001b[39min\u001b[39;00m final_scores:\n\u001b[1;32m     10\u001b[0m     \u001b[39mprint\u001b[39m(\u001b[39mf\u001b[39m\u001b[39m\"\u001b[39m\u001b[39m{\u001b[39;00mplayer\u001b[39m}\u001b[39;00m\u001b[39m = \u001b[39m\u001b[39m{\u001b[39;00mscore\u001b[39m}\u001b[39;00m\u001b[39m points\u001b[39m\u001b[39m\"\u001b[39m)\n",
      "Cell \u001b[0;32mIn[6], line 12\u001b[0m, in \u001b[0;36mtournament\u001b[0;34m(players, tournament_rounds, rounds_per_match)\u001b[0m\n\u001b[1;32m     10\u001b[0m \u001b[39mfor\u001b[39;00m _ \u001b[39min\u001b[39;00m \u001b[39mrange\u001b[39m(tournament_rounds):\n\u001b[1;32m     11\u001b[0m     game \u001b[39m=\u001b[39m Game(player1, player2)\n\u001b[0;32m---> 12\u001b[0m     scores \u001b[39m=\u001b[39m game\u001b[39m.\u001b[39;49mplay_game(rounds_per_match)\n\u001b[1;32m     13\u001b[0m     total_scores[\u001b[39mf\u001b[39m\u001b[39m\"\u001b[39m\u001b[39mPlayer\u001b[39m\u001b[39m{\u001b[39;00mi\u001b[39m}\u001b[39;00m\u001b[39m\"\u001b[39m] \u001b[39m+\u001b[39m\u001b[39m=\u001b[39m scores[\u001b[39m\"\u001b[39m\u001b[39mP1\u001b[39m\u001b[39m\"\u001b[39m]\n\u001b[1;32m     14\u001b[0m     total_scores[\u001b[39mf\u001b[39m\u001b[39m\"\u001b[39m\u001b[39mPlayer\u001b[39m\u001b[39m{\u001b[39;00mj\u001b[39m}\u001b[39;00m\u001b[39m\"\u001b[39m] \u001b[39m+\u001b[39m\u001b[39m=\u001b[39m scores[\u001b[39m\"\u001b[39m\u001b[39mP2\u001b[39m\u001b[39m\"\u001b[39m]\n",
      "Cell \u001b[0;32mIn[5], line 40\u001b[0m, in \u001b[0;36mGame.play_game\u001b[0;34m(self, rounds)\u001b[0m\n\u001b[1;32m     38\u001b[0m \u001b[39mself\u001b[39m\u001b[39m.\u001b[39mscores \u001b[39m=\u001b[39m {\u001b[39m\"\u001b[39m\u001b[39mP1\u001b[39m\u001b[39m\"\u001b[39m: \u001b[39m0\u001b[39m, \u001b[39m\"\u001b[39m\u001b[39mP2\u001b[39m\u001b[39m\"\u001b[39m: \u001b[39m0\u001b[39m}  \u001b[39m# Reset scores for each game\u001b[39;00m\n\u001b[1;32m     39\u001b[0m \u001b[39mfor\u001b[39;00m _ \u001b[39min\u001b[39;00m \u001b[39mrange\u001b[39m(rounds):\n\u001b[0;32m---> 40\u001b[0m     \u001b[39mself\u001b[39;49m\u001b[39m.\u001b[39;49mplay_round()\n\u001b[1;32m     41\u001b[0m \u001b[39mreturn\u001b[39;00m \u001b[39mself\u001b[39m\u001b[39m.\u001b[39mscores\n",
      "\u001b[0;31mTypeError\u001b[0m: Game.play_round() missing 2 required positional arguments: 'choice1' and 'choice2'"
     ]
    }
   ],
   "source": [
    "player3 = Player3()  # Initialize Player3 as an instance\n",
    "player3a = Player3()\n",
    "players = [player0, player1, player2, player3, player3a]\n",
    "\n",
    "tournament_rounds = 3\n",
    "rounds_per_match = 10\n",
    "\n",
    "final_scores = tournament(players, tournament_rounds, rounds_per_match)\n",
    "for player, score in final_scores:\n",
    "    print(f\"{player} = {score} points\")"
   ]
  }
 ],
 "metadata": {
  "kernelspec": {
   "display_name": "Python 3.9.6 64-bit",
   "language": "python",
   "name": "python3"
  },
  "language_info": {
   "codemirror_mode": {
    "name": "ipython",
    "version": 3
   },
   "file_extension": ".py",
   "mimetype": "text/x-python",
   "name": "python",
   "nbconvert_exporter": "python",
   "pygments_lexer": "ipython3",
   "version": "3.9.6"
  },
  "orig_nbformat": 4,
  "vscode": {
   "interpreter": {
    "hash": "31f2aee4e71d21fbe5cf8b01ff0e069b9275f58929596ceb00d14d90e3e16cd6"
   }
  }
 },
 "nbformat": 4,
 "nbformat_minor": 2
}
