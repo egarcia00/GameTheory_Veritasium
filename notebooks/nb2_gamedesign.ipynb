{
 "cells": [
  {
   "cell_type": "markdown",
   "metadata": {},
   "source": [
    "We need to create a game that allows two players.\n",
    "each game have to have a number of rounds, for default it will be 10 Rounds.\n",
    "Each player will have to start with a score of 0\n",
    "We initialize a history tracking of the answer of the 10 rounds for both Players\n",
    "\n",
    "\n",
    "Each player will have to individually came up with 2 options:\n",
    "    - C: Cooperate\n",
    "    - D: Defect\n",
    "\n",
    "\n"
   ]
  },
  {
   "cell_type": "code",
   "execution_count": 1,
   "metadata": {},
   "outputs": [],
   "source": [
    "# %%capture\n",
    "# !pip install numpy pandas matplotlib\n",
    "# ! pip install random"
   ]
  },
  {
   "cell_type": "code",
   "execution_count": 2,
   "metadata": {},
   "outputs": [],
   "source": [
    "import numpy as np\n",
    "import random"
   ]
  },
  {
   "cell_type": "code",
   "execution_count": 96,
   "metadata": {},
   "outputs": [],
   "source": [
    "class Game:\n",
    "    def __init__(self, player1, player2, rounds=10):\n",
    "        \n",
    "        # Setting the numbers of rounds\n",
    "        self.rounds = rounds\n",
    "\n",
    "        # Setting the number of rounds left\n",
    "        self.rounds_remaining = rounds\n",
    "\n",
    "        # Setting the number of rounds remaining\n",
    "        self.rounds_played = rounds - self.rounds_remaining\n",
    "\n",
    "        # Creation of two players\n",
    "        self.player1 = player1\n",
    "        self.player2 = player2\n",
    "\n",
    "        # Setting the decision tracking for each of the two players\n",
    "        self.history_p1 = np.empty(self.rounds)\n",
    "        self.history_p2 = np.empty(self.rounds)\n",
    "\n",
    "        # Setting the scores for the two players\n",
    "        self.scores = {\"P1\": 0, \"P2\": 0}\n",
    "\n",
    "    def play_round(self):\n",
    "        # Get choices from each player\n",
    "        choice_p1 = self.player1.choice\n",
    "        choice_p2 = self.player2.choice\n",
    "\n",
    "        print(choice_p1, choice_p2)\n",
    "        \n",
    "        # Update histories\n",
    "        self.history_p1[self.rounds_played-1] = choice_p1\n",
    "        self.history_p2[self.rounds_played-1] = choice_p2\n",
    "\n",
    "        # Update game state\n",
    "        self.rounds_played += 1\n",
    "        self.rounds_remaining -= 1\n",
    "\n",
    "        # Update scores based on choices (you'll need to implement this logic)\n",
    "        self.update_scores(choice_p1, choice_p2)\n",
    "\n",
    "    def update_scores(self, choice_p1, choice_p2):\n",
    "        scoring = {\n",
    "            (\"C\", \"C\"): (3, 3),\n",
    "            (\"D\", \"D\"): (1, 1),\n",
    "            (\"C\", \"D\"): (0, 5),\n",
    "            (\"D\", \"C\"): (5, 0)\n",
    "        }\n",
    "\n",
    "        # Update scores based on the choices\n",
    "        scores_p1, scores_p2 = scoring.get((choice_p1, choice_p2), (0, 0))\n",
    "        self.scores[\"P1\"] += scores_p1\n",
    "        self.scores[\"P2\"] += scores_p2\n"
   ]
  },
  {
   "cell_type": "code",
   "execution_count": 97,
   "metadata": {},
   "outputs": [],
   "source": [
    "class Player_Random:\n",
    "    def __init__(self, player_history, opponent_history, rounds_remaining, rounds_played):\n",
    "        choices = [\"C\", \"D\"]\n",
    "        self.choice = choices[random.randint(0, 1)]\n",
    "\n",
    "class Player_Pure_Cooperation:\n",
    "    def __init__(self, player_history, opponent_history, rounds_remaining, rounds_played):\n",
    "        self.choice = \"C\"\n",
    "\n",
    "\n",
    "class Player_Pure_Defect:\n",
    "    def __init__(self, player_history, opponent_history, rounds_remaining, rounds_played):\n",
    "        self.choice = \"D\"\n",
    "\n",
    "\n",
    "player_history, opponent_history, rounds_remaining, rounds_played = (1,2,3,4)\n",
    "\n",
    "r = Player_Random(player_history, opponent_history, rounds_remaining, rounds_played )\n",
    "c = Player_Pure_Cooperation(player_history, opponent_history, rounds_remaining, rounds_played )\n",
    "d = Player_Pure_Defect(player_history, opponent_history, rounds_remaining, rounds_played )\n"
   ]
  },
  {
   "cell_type": "code",
   "execution_count": 98,
   "metadata": {},
   "outputs": [
    {
     "ename": "ValueError",
     "evalue": "could not convert string to float: 'D'",
     "output_type": "error",
     "traceback": [
      "\u001b[0;31m---------------------------------------------------------------------------\u001b[0m",
      "\u001b[0;31mValueError\u001b[0m                                Traceback (most recent call last)",
      "Cell \u001b[0;32mIn[98], line 4\u001b[0m\n\u001b[1;32m      1\u001b[0m game \u001b[39m=\u001b[39m Game(d, c)\n\u001b[1;32m      3\u001b[0m \u001b[39mfor\u001b[39;00m _ \u001b[39min\u001b[39;00m \u001b[39mrange\u001b[39m(game\u001b[39m.\u001b[39mrounds):\n\u001b[0;32m----> 4\u001b[0m     game\u001b[39m.\u001b[39;49mplay_round()\n\u001b[1;32m      6\u001b[0m \u001b[39mprint\u001b[39m(game\u001b[39m.\u001b[39mhistory_p1)\n\u001b[1;32m      7\u001b[0m \u001b[39mprint\u001b[39m(game\u001b[39m.\u001b[39mhistory_p2)\n",
      "Cell \u001b[0;32mIn[96], line 30\u001b[0m, in \u001b[0;36mGame.play_round\u001b[0;34m(self)\u001b[0m\n\u001b[1;32m     27\u001b[0m choice_p2 \u001b[39m=\u001b[39m \u001b[39mself\u001b[39m\u001b[39m.\u001b[39mplayer2\u001b[39m.\u001b[39mchoice\n\u001b[1;32m     29\u001b[0m \u001b[39m# Update histories\u001b[39;00m\n\u001b[0;32m---> 30\u001b[0m \u001b[39mself\u001b[39m\u001b[39m.\u001b[39mhistory_p1[\u001b[39mself\u001b[39m\u001b[39m.\u001b[39mrounds_played\u001b[39m-\u001b[39m\u001b[39m1\u001b[39m] \u001b[39m=\u001b[39m choice_p1\n\u001b[1;32m     31\u001b[0m \u001b[39mself\u001b[39m\u001b[39m.\u001b[39mhistory_p2[\u001b[39mself\u001b[39m\u001b[39m.\u001b[39mrounds_played\u001b[39m-\u001b[39m\u001b[39m1\u001b[39m] \u001b[39m=\u001b[39m choice_p2\n\u001b[1;32m     33\u001b[0m \u001b[39m# Update game state\u001b[39;00m\n",
      "\u001b[0;31mValueError\u001b[0m: could not convert string to float: 'D'"
     ]
    }
   ],
   "source": [
    "game = Game(d, c)\n",
    "\n",
    "for _ in range(game.rounds):\n",
    "    game.play_round()\n",
    "\n",
    "print(game.history_p1)\n",
    "print(game.history_p2)"
   ]
  }
 ],
 "metadata": {
  "kernelspec": {
   "display_name": "Python 3.10.13 ('veritasium')",
   "language": "python",
   "name": "python3"
  },
  "language_info": {
   "codemirror_mode": {
    "name": "ipython",
    "version": 3
   },
   "file_extension": ".py",
   "mimetype": "text/x-python",
   "name": "python",
   "nbconvert_exporter": "python",
   "pygments_lexer": "ipython3",
   "version": "3.10.13"
  },
  "orig_nbformat": 4,
  "vscode": {
   "interpreter": {
    "hash": "1da60662da0156c5768eb2b928ff0c56f1a45660c922557fe2f3ef93a7c0358a"
   }
  }
 },
 "nbformat": 4,
 "nbformat_minor": 2
}
